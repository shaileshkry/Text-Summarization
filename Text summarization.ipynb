{
 "cells": [
  {
   "cell_type": "code",
   "execution_count": null,
   "id": "df7cd55d",
   "metadata": {},
   "outputs": [],
   "source": [
    "#pip install transformers"
   ]
  },
  {
   "cell_type": "code",
   "execution_count": 1,
   "id": "11e483be",
   "metadata": {},
   "outputs": [
    {
     "name": "stdout",
     "output_type": "stream",
     "text": [
      "WARNING:tensorflow:From C:\\Users\\IITG\\anaconda3\\Lib\\site-packages\\keras\\src\\losses.py:2976: The name tf.losses.sparse_softmax_cross_entropy is deprecated. Please use tf.compat.v1.losses.sparse_softmax_cross_entropy instead.\n",
      "\n"
     ]
    }
   ],
   "source": [
    "from transformers import pipeline"
   ]
  },
  {
   "cell_type": "code",
   "execution_count": 3,
   "id": "21291667",
   "metadata": {},
   "outputs": [
    {
     "name": "stderr",
     "output_type": "stream",
     "text": [
      "No model was supplied, defaulted to t5-small and revision d769bba (https://huggingface.co/t5-small).\n",
      "Using a pipeline without specifying a model name and revision in production is not recommended.\n"
     ]
    },
    {
     "data": {
      "application/vnd.jupyter.widget-view+json": {
       "model_id": "b600012777ea4b4199dabd77156ba436",
       "version_major": 2,
       "version_minor": 0
      },
      "text/plain": [
       "Downloading config.json:   0%|          | 0.00/1.21k [00:00<?, ?B/s]"
      ]
     },
     "metadata": {},
     "output_type": "display_data"
    },
    {
     "name": "stderr",
     "output_type": "stream",
     "text": [
      "C:\\Users\\IITG\\anaconda3\\Lib\\site-packages\\huggingface_hub\\file_download.py:133: UserWarning: `huggingface_hub` cache-system uses symlinks by default to efficiently store duplicated files but your machine does not support them in C:\\Users\\IITG\\.cache\\huggingface\\hub. Caching files will still work but in a degraded version that might require more space on your disk. This warning can be disabled by setting the `HF_HUB_DISABLE_SYMLINKS_WARNING` environment variable. For more details, see https://huggingface.co/docs/huggingface_hub/how-to-cache#limitations.\n",
      "To support symlinks on Windows, you either need to activate Developer Mode or to run Python as an administrator. In order to see activate developer mode, see this article: https://docs.microsoft.com/en-us/windows/apps/get-started/enable-your-device-for-development\n",
      "  warnings.warn(message)\n"
     ]
    },
    {
     "data": {
      "application/vnd.jupyter.widget-view+json": {
       "model_id": "cd56cf3771b9415c9597d6fa5cce0e0a",
       "version_major": 2,
       "version_minor": 0
      },
      "text/plain": [
       "Downloading model.safetensors:   0%|          | 0.00/242M [00:00<?, ?B/s]"
      ]
     },
     "metadata": {},
     "output_type": "display_data"
    },
    {
     "name": "stdout",
     "output_type": "stream",
     "text": [
      "WARNING:tensorflow:From C:\\Users\\IITG\\anaconda3\\Lib\\site-packages\\keras\\src\\backend.py:873: The name tf.get_default_graph is deprecated. Please use tf.compat.v1.get_default_graph instead.\n",
      "\n"
     ]
    },
    {
     "name": "stderr",
     "output_type": "stream",
     "text": [
      "All PyTorch model weights were used when initializing TFT5ForConditionalGeneration.\n",
      "\n",
      "All the weights of TFT5ForConditionalGeneration were initialized from the PyTorch model.\n",
      "If your task is similar to the task the model of the checkpoint was trained on, you can already use TFT5ForConditionalGeneration for predictions without further training.\n"
     ]
    },
    {
     "data": {
      "application/vnd.jupyter.widget-view+json": {
       "model_id": "84dbf067d6974645a3661c4f3e7c31fb",
       "version_major": 2,
       "version_minor": 0
      },
      "text/plain": [
       "Downloading tokenizer_config.json:   0%|          | 0.00/2.32k [00:00<?, ?B/s]"
      ]
     },
     "metadata": {},
     "output_type": "display_data"
    },
    {
     "data": {
      "application/vnd.jupyter.widget-view+json": {
       "model_id": "61e3ffb7a0c34a57979bc8919c77a5a5",
       "version_major": 2,
       "version_minor": 0
      },
      "text/plain": [
       "Downloading spiece.model:   0%|          | 0.00/792k [00:00<?, ?B/s]"
      ]
     },
     "metadata": {},
     "output_type": "display_data"
    },
    {
     "data": {
      "application/vnd.jupyter.widget-view+json": {
       "model_id": "cf80d00d0c50455885616688dc245c8f",
       "version_major": 2,
       "version_minor": 0
      },
      "text/plain": [
       "Downloading tokenizer.json:   0%|          | 0.00/1.39M [00:00<?, ?B/s]"
      ]
     },
     "metadata": {},
     "output_type": "display_data"
    }
   ],
   "source": [
    "summarizer=pipeline(\"summarization\")"
   ]
  },
  {
   "cell_type": "code",
   "execution_count": 18,
   "id": "de9a1a9e",
   "metadata": {},
   "outputs": [],
   "source": [
    "text=\"\"\"NCL CIL Assistant Foreman Online Form 2024 for 150 Post\n",
    "Application Begin : 15/01/2024\n",
    "Last Date for Apply Online : 05/02/2024 \n",
    "Pay the Exam Last Date : 05/02/2024\n",
    "Exam Date:  As per Schedule\n",
    "Admit Card Available : Before Exam\n",
    "General / OBC / EWS : 1180/-\n",
    "SC / ST / PH : 0/- \n",
    "Pay the Exam Fee Through Debit Card / Credit Card / Net Banking Only.\n",
    "Minimum Age : 18 Years.\n",
    "Maximum Age : 30 Years.\n",
    "Age Relaxation As per Northern Coal Field NCL Assistant Foreman Trainee 2024 Recruitment Rules.\n",
    "Class 10th with Diploma in Engineering (Polytechnic) in Related Trade.\n",
    "More Eligibility Details Read the Notification.\n",
    "Northern Coalfield Limited NCL Assistant Foreman Latest Recruitment 2024for the Post of Asst Foreman Trainee Post Can Apply Between  15/01/2024 to 05/02/2024.\n",
    "Candidate Read the Notification Before Apply the Vacancies Application Form in Govt. Jobs of NCL Assistant Foreman Trainee NCL CIL Career Recruitment Online Form 2024.\n",
    "Kindly Check and Collect the All Document - Eligibility, ID Proof, Address Details, Basic Details.\n",
    "Kindly Ready Scan Document Related to Recruitment Form - Photo, Sign, ID Proof, Etc.\n",
    "Before Apply Online / Submit Application Form Must Check the Preview and All Column Carefully.\n",
    "Take A Print Out of Final Submitted Form.\n",
    "\"\"\""
   ]
  },
  {
   "cell_type": "code",
   "execution_count": 32,
   "id": "4a09e009",
   "metadata": {},
   "outputs": [
    {
     "data": {
      "text/plain": [
       "1257"
      ]
     },
     "execution_count": 32,
     "metadata": {},
     "output_type": "execute_result"
    }
   ],
   "source": [
    "len(text)"
   ]
  },
  {
   "cell_type": "code",
   "execution_count": 42,
   "id": "68563916",
   "metadata": {},
   "outputs": [],
   "source": [
    "summary=summarizer(text,max_length=200,min_length=100,length_penalty=4.0,num_beams=6,early_stopping=True)"
   ]
  },
  {
   "cell_type": "code",
   "execution_count": 43,
   "id": "85f75e47",
   "metadata": {},
   "outputs": [
    {
     "data": {
      "text/plain": [
       "378"
      ]
     },
     "execution_count": 43,
     "metadata": {},
     "output_type": "execute_result"
    }
   ],
   "source": [
    "len(summary[0]['summary_text'])"
   ]
  },
  {
   "cell_type": "code",
   "execution_count": 44,
   "id": "659f035b",
   "metadata": {},
   "outputs": [
    {
     "data": {
      "text/plain": [
       "'NCL Assistant Foreman Online Form 2024 for 150 Post Application Begin: 15/01/2024 Last Date for Apply Online: 05/02/2024 Exam Date: As per Schedule Admit Card Available: Before Exam General / OBC / EWS : 1180/- SC / ST / PH : 0/- Pay the Exam Fee Through Debit card / Credit Card / Net Banking Only . Minimum Age : 18 Years. Maximum Age: 30 Years. Age Relaxation As per Northern'"
      ]
     },
     "execution_count": 44,
     "metadata": {},
     "output_type": "execute_result"
    }
   ],
   "source": [
    "summary[0]['summary_text']"
   ]
  },
  {
   "cell_type": "code",
   "execution_count": null,
   "id": "c3519ab4",
   "metadata": {},
   "outputs": [],
   "source": []
  },
  {
   "cell_type": "code",
   "execution_count": null,
   "id": "6638ca1d",
   "metadata": {},
   "outputs": [],
   "source": []
  },
  {
   "cell_type": "code",
   "execution_count": null,
   "id": "d53da90c",
   "metadata": {},
   "outputs": [],
   "source": []
  },
  {
   "cell_type": "code",
   "execution_count": null,
   "id": "d2c49a5f",
   "metadata": {},
   "outputs": [],
   "source": []
  },
  {
   "cell_type": "code",
   "execution_count": null,
   "id": "373eafd9",
   "metadata": {},
   "outputs": [],
   "source": []
  },
  {
   "cell_type": "code",
   "execution_count": null,
   "id": "a83c53d9",
   "metadata": {},
   "outputs": [],
   "source": []
  }
 ],
 "metadata": {
  "kernelspec": {
   "display_name": "Python 3 (ipykernel)",
   "language": "python",
   "name": "python3"
  },
  "language_info": {
   "codemirror_mode": {
    "name": "ipython",
    "version": 3
   },
   "file_extension": ".py",
   "mimetype": "text/x-python",
   "name": "python",
   "nbconvert_exporter": "python",
   "pygments_lexer": "ipython3",
   "version": "3.11.5"
  }
 },
 "nbformat": 4,
 "nbformat_minor": 5
}
